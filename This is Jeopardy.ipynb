{
 "cells": [
  {
   "cell_type": "markdown",
   "metadata": {},
   "source": [
    "# This is Jeopardy!"
   ]
  },
  {
   "cell_type": "markdown",
   "metadata": {},
   "source": [
    "#### Overview"
   ]
  },
  {
   "cell_type": "markdown",
   "metadata": {},
   "source": [
    "This project is slightly different than others you have encountered thus far. Instead of a step-by-step tutorial, this project contains a series of open-ended requirements which describe the project you'll be building. There are many possible ways to correctly fulfill all of these requirements, and you should expect to use the internet, Codecademy, and/or other resources when you encounter a problem that you cannot easily solve."
   ]
  },
  {
   "cell_type": "markdown",
   "metadata": {},
   "source": [
    "#### Project Goals"
   ]
  },
  {
   "cell_type": "markdown",
   "metadata": {},
   "source": [
    "You will work to write several functions that investigate a dataset of _Jeopardy!_ questions and answers. Filter the dataset for topics that you're interested in, compute the average difficulty of those questions, and train to become the next Jeopardy champion!"
   ]
  },
  {
   "cell_type": "markdown",
   "metadata": {},
   "source": [
    "## Prerequisites"
   ]
  },
  {
   "cell_type": "markdown",
   "metadata": {},
   "source": [
    "In order to complete this project, you should have completed the Pandas lessons in the <a href=\"https://www.codecademy.com/learn/paths/analyze-data-with-python\">Analyze Data with Python Skill Path</a>. You can also find those lessons in the <a href=\"https://www.codecademy.com/learn/data-processing-pandas\">Data Analysis with Pandas course</a> or the <a href=\"https://www.codecademy.com/learn/paths/data-science/\">Data Scientist Career Path</a>.\n",
    "\n",
    "Finally, the <a href=\"https://www.codecademy.com/learn/practical-data-cleaning\">Practical Data Cleaning</a> course may also be helpful."
   ]
  },
  {
   "cell_type": "markdown",
   "metadata": {},
   "source": [
    "## Project Requirements"
   ]
  },
  {
   "cell_type": "markdown",
   "metadata": {},
   "source": [
    "1. We've provided a csv file containing data about the game show _Jeopardy!_ in a file named `jeopardy.csv`. Load the data into a DataFrame and investigate its contents. Try to print out specific columns.\n",
    "\n",
    "   Note that in order to make this project as \"real-world\" as possible, we haven't modified the data at all - we're giving it to you exactly how we found it. As a result, this data isn't as \"clean\" as the datasets you normally find on Codecademy. More specifically, there's something odd about the column names. After you figure out the problem with the column names, you may want to rename them to make your life easier for the rest of the project.\n",
    "   \n",
    "   In order to display the full contents of a column, we've added this line of code for you:\n",
    "   \n",
    "   ```py\n",
    "   pd.set_option('display.max_colwidth', None)\n",
    "   ```"
   ]
  },
  {
   "cell_type": "code",
   "execution_count": 1,
   "metadata": {},
   "outputs": [
    {
     "name": "stdout",
     "output_type": "stream",
     "text": [
      "   Show Number    Air Date      Round                         Category  Value  \\\n",
      "0         4680  2004-12-31  Jeopardy!                          HISTORY   $200   \n",
      "1         4680  2004-12-31  Jeopardy!  ESPN's TOP 10 ALL-TIME ATHLETES   $200   \n",
      "2         4680  2004-12-31  Jeopardy!      EVERYBODY TALKS ABOUT IT...   $200   \n",
      "3         4680  2004-12-31  Jeopardy!                 THE COMPANY LINE   $200   \n",
      "4         4680  2004-12-31  Jeopardy!              EPITAPHS & TRIBUTES   $200   \n",
      "\n",
      "                                                                                                      Question  \\\n",
      "0             For the last 8 years of his life, Galileo was under house arrest for espousing this man's theory   \n",
      "1  No. 2: 1912 Olympian; football star at Carlisle Indian School; 6 MLB seasons with the Reds, Giants & Braves   \n",
      "2                     The city of Yuma in this state has a record average of 4,055 hours of sunshine each year   \n",
      "3                         In 1963, live on \"The Art Linkletter Show\", this company served its billionth burger   \n",
      "4     Signer of the Dec. of Indep., framer of the Constitution of Mass., second President of the United States   \n",
      "\n",
      "       Answer  \n",
      "0  Copernicus  \n",
      "1  Jim Thorpe  \n",
      "2     Arizona  \n",
      "3  McDonald's  \n",
      "4  John Adams  \n"
     ]
    }
   ],
   "source": [
    "# Initial Code from the Exercise\n",
    "import pandas as pd\n",
    "pd.set_option('display.max_colwidth', None)\n",
    "\n",
    "# Read the CSV file\n",
    "jeopardy = pd.read_csv(\"jeopardy.csv\")\n",
    "\n",
    "# Inspect jeopardy.csv\n",
    "print(jeopardy.head(5))"
   ]
  },
  {
   "cell_type": "markdown",
   "metadata": {},
   "source": [
    "After looking over the file, each of the column names have a leading space. In addition, there are two columns with more than one word. We will rename the columns to make the DataFrame easier to work with."
   ]
  },
  {
   "cell_type": "code",
   "execution_count": 2,
   "metadata": {},
   "outputs": [],
   "source": [
    "# Rename the columns in jeopardy\n",
    "jeopardy.columns = [\"Show_Number\", \"Air_Date\", \"Round\", \"Category\", \"Value\", \"Question\", \"Answer\"]"
   ]
  },
  {
   "cell_type": "markdown",
   "metadata": {},
   "source": [
    "2. Write a function that filters the dataset for questions that contains all of the words in a list of words. For example, when the list `[\"King\", \"England\"]` was passed to our function, the function returned a DataFrame of 49 rows. Every row had the strings `\"King\"` and `\"England\"` somewhere in its `\" Question\"`.\n",
    "\n",
    "   Test your function by printing out the column containing the question of each row of the dataset."
   ]
  },
  {
   "cell_type": "markdown",
   "metadata": {},
   "source": [
    "To understand how to create the function, we will first understand how to achieve the results via brute-force.\n",
    "\n",
    "I found help on [realpython.com](https://realpython.com/python-string-contains-substring/#find-a-substring-in-a-pandas-dataframe-column:~:text=Remove%20ads-,Find%20a%20Substring%20in%20a%20pandas%20DataFrame%20Column,-If%20you%20work). This showed that we can find a sub-string in a DataFrame using the .str.contains() function on a pandas column."
   ]
  },
  {
   "cell_type": "code",
   "execution_count": 3,
   "metadata": {},
   "outputs": [
    {
     "name": "stdout",
     "output_type": "stream",
     "text": [
      "49\n"
     ]
    }
   ],
   "source": [
    "# Brute-Force Method\n",
    "\n",
    "# We will first create a new DataFrame that searches for \"King\" in jeopardy.Question\n",
    "king = jeopardy[jeopardy.Question.str.contains(\"King\")] \n",
    "\n",
    "# Next, we will use the newly created DataFrame to search for \"England\"\n",
    "king_england = king[king.Question.str.contains(\"England\")]\n",
    "\n",
    "# We will check if this new DataFrame has the desired results from the question\n",
    "print(len(king_england)) # The answer is 49 as per the question"
   ]
  },
  {
   "cell_type": "markdown",
   "metadata": {},
   "source": [
    "The Brute-Force Method shows that to find a DataFrame that filters on specific words, we will need to \n",
    "1. Create a new DataFrame using .str.contains() and pass the first word as an argument to filter for rows that contain that word\n",
    "2. Use the newly created DataFrame and repeat the process for the next word\n",
    "3. Repeat until all words have been found\n",
    "\n",
    "We will create a function that will take a list of words to filter the Question column and find each row that contains all the words in our list"
   ]
  },
  {
   "cell_type": "code",
   "execution_count": 4,
   "metadata": {},
   "outputs": [
    {
     "name": "stdout",
     "output_type": "stream",
     "text": [
      "49\n"
     ]
    }
   ],
   "source": [
    "def find_words(list_of_words):\n",
    "    # This lambda function will search the Question column for each row that has the passed word\n",
    "    find = lambda x: jeopardy[jeopardy.Question.str.contains(x)]\n",
    "    \n",
    "    # We will need to define the first DataFrame from the list_of_words\n",
    "    df = find(list_of_words[0])\n",
    "    \n",
    "    # If there is only one word to filter on, then we will return the newly created DataFrame\n",
    "    if len(list_of_words) == 1:\n",
    "        return df\n",
    "    \n",
    "    # If there are more than one word to filter on, then we will use the following\n",
    "    else:\n",
    "        for word in list_of_words:\n",
    "            # The first iteration of df2 will result in the same DataFrame as df\n",
    "            df2 = df[df.Question.str.contains(word)]\n",
    "            df = df2\n",
    "        return df\n",
    "\n",
    "# Check the find_words function\n",
    "print(len(find_words([\"King\", \"England\"]))) # Answer 49"
   ]
  },
  {
   "cell_type": "markdown",
   "metadata": {},
   "source": [
    "3. Test your original function with a few different sets of words to try to find some ways your function breaks. Edit your function so it is more robust.\n",
    "\n",
    "   For example, think about capitalization. We probably want to find questions that contain the word `\"King\"` or `\"king\"`.\n",
    "   \n",
    "   You may also want to check to make sure you don't find rows that contain substrings of your given words. For example, our function found a question that didn't contain the word `\"king\"`, however it did contain the word `\"viking\"` &mdash; it found the `\"king\"` inside `\"viking\"`. Note that this also comes with some drawbacks &mdash; you would no longer find questions that contained words like `\"England's\"`."
   ]
  },
  {
   "cell_type": "markdown",
   "metadata": {},
   "source": [
    "We will first attempt to fix our filter by incorporating case-insensitivity. We can do this by using the .lower() function on each character in the list_of_words passed to our function and to each row in jeopardy.Question."
   ]
  },
  {
   "cell_type": "code",
   "execution_count": 5,
   "metadata": {},
   "outputs": [
    {
     "name": "stdout",
     "output_type": "stream",
     "text": [
      "152\n"
     ]
    }
   ],
   "source": [
    "# Fixing the find_words function to not be case-sensitive\n",
    "def find_words_case_insensitive(list_of_words):\n",
    "    # Lowercase the words in the list\n",
    "    for i in range(len(list_of_words)):\n",
    "        list_of_words[i] = list_of_words[i].lower()\n",
    "        \n",
    "    # Create a new DataFrame from jeopardy with a lowercase Question column\n",
    "    lowercase_jeopardy = jeopardy\n",
    "    lowercase_jeopardy[\"Lowercase_Question\"] = lowercase_jeopardy.Question.apply(str.lower)\n",
    "    \n",
    "    # This lambda function will search the Lowercase_Question column for each row that has the passed word\n",
    "    find = lambda x: lowercase_jeopardy[lowercase_jeopardy.Lowercase_Question.str.contains(x)]\n",
    "    \n",
    "    # We will need to define the first DataFrame from the list_of_words\n",
    "    df = find(list_of_words[0])\n",
    "    \n",
    "    # # If there is only one word to filter on, then we will return the newly created DataFrame\n",
    "    if len(list_of_words) == 1:\n",
    "        return df\n",
    "    \n",
    "    # If there are more than one word to filter on, then we will use the following\n",
    "    else:\n",
    "        for word in list_of_words:\n",
    "            # The first iteration of df2 will result in the same DataFrame as df\n",
    "            df2 = df[df.Lowercase_Question.str.contains(word)]\n",
    "            df = df2\n",
    "        return df\n",
    "\n",
    "# Check the find_words function\n",
    "print(len(find_words_case_insensitive([\"King\", \"England\"]))) # Answer 152"
   ]
  },
  {
   "cell_type": "markdown",
   "metadata": {},
   "source": [
    "4. We may want to eventually compute aggregate statistics, like `.mean()` on the `\" Value\"` column. But right now, the values in that column are strings. Convert the`\" Value\"` column to floats. If you'd like to, you can create a new column with float values.\n",
    "\n",
    "   While most of the values in the `\" Value\"` column represent a dollar amount as a string, note that some do not &mdash; these values will need to be handled differently!\n",
    "\n",
    "   Now that you can filter the dataset of question, use your new column that contains the float values of each question to find the \"difficulty\" of certain topics. For example, what is the average value of questions that contain the word `\"King\"`?\n",
    "   \n",
    "   Make sure to use the dataset that contains the float values as the dataset you use in your filtering function."
   ]
  },
  {
   "cell_type": "code",
   "execution_count": 6,
   "metadata": {},
   "outputs": [
    {
     "name": "stdout",
     "output_type": "stream",
     "text": [
      "150\n"
     ]
    }
   ],
   "source": [
    "# What are the unique values of jeopardy.Value\n",
    "unique_value = jeopardy.Value.unique()\n",
    "print(len(unique_value))"
   ]
  },
  {
   "cell_type": "markdown",
   "metadata": {},
   "source": [
    "We will convert any \"no value\" observations to NANs. Also, we will remove the $ from each of the dollar values, and we will remove any comma's. "
   ]
  },
  {
   "cell_type": "code",
   "execution_count": 7,
   "metadata": {},
   "outputs": [],
   "source": [
    "# Create an empty list to append with values\n",
    "money_list = []\n",
    "\n",
    "for number in jeopardy.Value:\n",
    "    if number == \"no value\":\n",
    "        money_list.append(float(\"NaN\"))\n",
    "    else:\n",
    "        # Remove the $-sign\n",
    "        x = number.replace(\"$\", \"\")\n",
    "    \n",
    "        # Remove any ,'s\n",
    "        x = x.replace(\",\", \"\")\n",
    "        \n",
    "        # Convert the number to a float\n",
    "        x = float(x)\n",
    "    \n",
    "        # Append the money_list\n",
    "        money_list.append(x)\n",
    "\n",
    "# Create a new column with float values\n",
    "jeopardy[\"Modified_Value\"] = money_list"
   ]
  },
  {
   "cell_type": "markdown",
   "metadata": {},
   "source": [
    "Now that we have a column of values as floats, we can now perform aggregate statistics on that column."
   ]
  },
  {
   "cell_type": "code",
   "execution_count": 8,
   "metadata": {},
   "outputs": [
    {
     "name": "stdout",
     "output_type": "stream",
     "text": [
      "What is the average value for a Jeopardy question?\n",
      " The average value of a Jeopardy question is $752.6\n",
      "What is the average value of question with the sub-string 'King'?\n",
      " The average value of a Jeopardy question with the string 'King' is $785.67\n"
     ]
    }
   ],
   "source": [
    "#print(jeopardy_value.head(2))\n",
    "# What is the average value for a Jeopardy question\n",
    "print(\"What is the average value for a Jeopardy question?\")\n",
    "avg_value = jeopardy.Modified_Value.mean()\n",
    "print(\" The average value of a Jeopardy question is $\" + str(avg_value.round(2)))\n",
    "\n",
    "# What is the average value of question with the sub-string \"King\"?\n",
    "print(\"What is the average value of question with the sub-string 'King'?\")\n",
    "x = find_words_case_insensitive([\"King\"])\n",
    "avg_value = x.Modified_Value.mean()\n",
    "print(\" The average value of a Jeopardy question with the string 'King' is $\" + str(round(avg_value, 2)))"
   ]
  },
  {
   "cell_type": "markdown",
   "metadata": {},
   "source": [
    "We will define a function that will take a given list of words to filter on a DataFrame (similar to Question 3), then find the average value for that question."
   ]
  },
  {
   "cell_type": "code",
   "execution_count": 9,
   "metadata": {},
   "outputs": [
    {
     "name": "stdout",
     "output_type": "stream",
     "text": [
      "785.67\n"
     ]
    }
   ],
   "source": [
    "def find_words_case_insensitive_avg_value(list_of_words):\n",
    "    # Define the DataFrame that we'll use to find the average value\n",
    "    df = find_words_case_insensitive(list_of_words)\n",
    "    avg_value = df.Modified_Value.mean()\n",
    "    return avg_value\n",
    "\n",
    "x = find_words_case_insensitive_avg_value([\"King\"])\n",
    "print(round(x, 2)) # Answer is the same as above"
   ]
  },
  {
   "cell_type": "markdown",
   "metadata": {},
   "source": [
    "5. Write a function that returns the count of unique answers to all of the questions in a dataset. For example, after filtering the entire dataset to only questions containing the word `\"King\"`, we could then find all of the unique answers to those questions. The answer \"Henry VIII\" appeared 55 times and was the most common answer."
   ]
  },
  {
   "cell_type": "code",
   "execution_count": 10,
   "metadata": {},
   "outputs": [],
   "source": [
    "#print(jeopardy.head(3))\n",
    "x = jeopardy.groupby(\"Answer\").Show_Number.count().reset_index()\n",
    "\n",
    "def find_words_case_insensitive_unique_answers(list_of_words):\n",
    "    # Define the DataFrame that we'll use to find the unique answers\n",
    "    df = find_words_case_insensitive(list_of_words)\n",
    "    \n",
    "    # Define the DataFrame with the counts of unique answers\n",
    "    answer = df.groupby(\"Answer\").Show_Number.count().reset_index()\n",
    "    return answer\n",
    "\n",
    "x = find_words_case_insensitive_unique_answers([\"King\"])\n",
    "henry_viii = x[x.Answer == \"Henry VIII\"] # Show Number is 55 as expected"
   ]
  },
  {
   "cell_type": "markdown",
   "metadata": {},
   "source": [
    "6. Explore from here! This is an incredibly rich dataset, and there are so many interesting things to discover. There are a few columns that we haven't even started looking at yet. Here are some ideas on ways to continue working with this data:\n",
    "\n",
    " * Investigate the ways in which questions change over time by filtering by the date. How many questions from the 90s use the word `\"Computer\"` compared to questions from the 2000s?\n",
    " * Is there a connection between the round and the category? Are you more likely to find certain categories, like `\"Literature\"` in Single Jeopardy or Double Jeopardy?\n",
    " * Build a system to quiz yourself. Grab random questions, and use the <a href=\"https://docs.python.org/3/library/functions.html#input\">input</a> function to get a response from the user. Check to see if that response was right or wrong."
   ]
  },
  {
   "cell_type": "markdown",
   "metadata": {},
   "source": [
    "We will explore the additional questions.\n",
    "\n",
    "First, we will investigate the ways in which questions change over time by filtering by the date. How many questions from the 90s use the word \"Computer\" compared to questions from the 2000s?\n",
    "\n",
    "We will need to groupby the year. \n",
    "\n",
    "The Air_Date column is a series of strings with YEAR-MONTH-DAY (XXXX-XX-XX). In order to group by year, we will need to split the first four values of each of the dates and add them to a year column."
   ]
  },
  {
   "cell_type": "code",
   "execution_count": 11,
   "metadata": {},
   "outputs": [
    {
     "name": "stdout",
     "output_type": "stream",
     "text": [
      "The earliest aired date in our data is 1984-09-10\n",
      "The latest aired date in our data is 2012-01-27\n"
     ]
    }
   ],
   "source": [
    "# For context, what are the earliest and latest dates in our data?\n",
    "print(\"The earliest aired date in our data is \" + str(jeopardy.Air_Date.min()))\n",
    "print(\"The latest aired date in our data is \" + str(jeopardy.Air_Date.max()))"
   ]
  },
  {
   "cell_type": "code",
   "execution_count": 12,
   "metadata": {},
   "outputs": [],
   "source": [
    "# Define an empty list that we can append\n",
    "years = []\n",
    "\n",
    "# Define the dates we will extract the years from\n",
    "dates = jeopardy.Air_Date\n",
    "\n",
    "# Iterate over dates to create a list of years\n",
    "for date in dates:\n",
    "    x = date[:4]\n",
    "    years.append(x)\n",
    "    \n",
    "# Create a new column in jeopardy to get the year    \n",
    "jeopardy[\"Year\"] = years"
   ]
  },
  {
   "cell_type": "markdown",
   "metadata": {},
   "source": [
    "Now that we have a column of years, we are able to groupby year!"
   ]
  },
  {
   "cell_type": "code",
   "execution_count": 13,
   "metadata": {},
   "outputs": [
    {
     "name": "stdout",
     "output_type": "stream",
     "text": [
      "Here are the amount of episodes for any given year.\n",
      "    Year  Count\n",
      "0   1984   1179\n",
      "1   1985    888\n",
      "2   1986   1409\n",
      "3   1987   1275\n",
      "4   1988   1290\n",
      "5   1989   2067\n",
      "6   1990   4337\n",
      "7   1991   1444\n",
      "8   1992   1885\n",
      "9   1993   2132\n",
      "10  1994   1136\n",
      "11  1995   1138\n",
      "12  1996   4891\n",
      "13  1997  13099\n",
      "14  1998  13143\n",
      "15  1999  13540\n",
      "16  2000  13439\n",
      "17  2001  12097\n",
      "18  2002   6859\n",
      "19  2003   9426\n",
      "20  2004  13190\n",
      "21  2005  13560\n",
      "22  2006  13726\n",
      "23  2007  13940\n",
      "24  2008  14036\n",
      "25  2009  13579\n",
      "26  2010  13756\n",
      "27  2011  13376\n",
      "28  2012   1093\n"
     ]
    }
   ],
   "source": [
    "df = jeopardy.groupby(\"Year\").Round.count().reset_index()\n",
    "df.columns = [\"Year\", \"Count\"]\n",
    "\n",
    "print(\"Here are the amount of episodes for any given year.\")\n",
    "print(df)"
   ]
  },
  {
   "cell_type": "markdown",
   "metadata": {},
   "source": [
    "If we want to group by decade, then we will need to create a decade column."
   ]
  },
  {
   "cell_type": "code",
   "execution_count": 14,
   "metadata": {},
   "outputs": [],
   "source": [
    "# Define an empty list that we can append\n",
    "decades = []\n",
    "\n",
    "# We will convert each year in years to integers\n",
    "for i in range(len(years)):\n",
    "    years[i] = int(years[i])\n",
    "    \n",
    "# Iterate over years to create a list of decades\n",
    "for year in years:\n",
    "    if year >= 2010:\n",
    "        decades.append(\"2010s\")\n",
    "    elif year >= 2000:\n",
    "        decades.append(\"2000s\")\n",
    "    elif year >= 1990:\n",
    "        decades.append(\"1990s\")\n",
    "    elif year >= 1980:\n",
    "        decades.append(\"1980s\")\n",
    "    else:\n",
    "        decades.append(\"Check the function\")\n",
    "    \n",
    "# Create a new column in jeopardy to get the decades    \n",
    "jeopardy[\"Decade\"] = decades"
   ]
  },
  {
   "cell_type": "markdown",
   "metadata": {},
   "source": [
    "Now that we have a decades column, we will be able to investigate the ways in which questions change over time by filtering by the decade. \n",
    "\n",
    "How many questions from the 90s use the word \"Computer\" compared to questions from the 2000s?"
   ]
  },
  {
   "cell_type": "code",
   "execution_count": 15,
   "metadata": {},
   "outputs": [
    {
     "name": "stdout",
     "output_type": "stream",
     "text": [
      "Here is a table showcasing the number of times the word 'Computer' was used in a Jeopardy question.\n",
      "  Decade  Count\n",
      "0  1980s      6\n",
      "1  1990s     98\n",
      "2  2000s    268\n",
      "3  2010s     59\n",
      "There is a difference of 170 times that 'Computer' was used in a Jeopardy question from the 1990s to 2000s.\n"
     ]
    }
   ],
   "source": [
    "computer = find_words_case_insensitive([\"Computer\"])\n",
    "computer_count = computer.groupby(\"Decade\").Show_Number.count().reset_index()\n",
    "computer_count.columns = [\"Decade\", \"Count\"]\n",
    "print(\"Here is a table showcasing the number of times the word 'Computer' was used in a Jeopardy question.\")\n",
    "print(computer_count)\n",
    "print(\"There is a difference of \" + str(268 - 98) + \" times that 'Computer' was used in a Jeopardy question from the 1990s to 2000s.\")"
   ]
  },
  {
   "cell_type": "markdown",
   "metadata": {},
   "source": [
    "## Solution"
   ]
  },
  {
   "cell_type": "markdown",
   "metadata": {},
   "source": [
    "7. Compare your program to our <a href=\"https://content.codecademy.com/PRO/independent-practice-projects/jeopardy/jeopardy_solution.zip\">sample solution code</a> - remember, that your program might look different from ours (and probably will) and that's okay!"
   ]
  },
  {
   "cell_type": "markdown",
   "metadata": {},
   "source": [
    "8. Great work! Visit <a href=\"https://discuss.codecademy.com/t/this-is-jeopardy-challenge-project-python-pandas/462365\">our forums</a> to compare your project to our sample solution code. You can also learn how to host your own solution on GitHub so you can share it with other learners! Your solution might look different from ours, and that's okay! There are multiple ways to solve these projects, and you'll learn more by seeing others' code."
   ]
  },
  {
   "cell_type": "code",
   "execution_count": null,
   "metadata": {},
   "outputs": [],
   "source": []
  }
 ],
 "metadata": {
  "kernelspec": {
   "display_name": "Python 3 (ipykernel)",
   "language": "python",
   "name": "python3"
  },
  "language_info": {
   "codemirror_mode": {
    "name": "ipython",
    "version": 3
   },
   "file_extension": ".py",
   "mimetype": "text/x-python",
   "name": "python",
   "nbconvert_exporter": "python",
   "pygments_lexer": "ipython3",
   "version": "3.11.5"
  }
 },
 "nbformat": 4,
 "nbformat_minor": 2
}
